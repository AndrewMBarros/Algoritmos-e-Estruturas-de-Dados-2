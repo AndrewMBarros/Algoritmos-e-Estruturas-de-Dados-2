{
  "nbformat": 4,
  "nbformat_minor": 0,
  "metadata": {
    "colab": {
      "provenance": []
    },
    "kernelspec": {
      "name": "python3",
      "display_name": "Python 3"
    },
    "language_info": {
      "name": "python"
    }
  },
  "cells": [
    {
      "cell_type": "markdown",
      "source": [
        "#Algoritmo de Strassen para multiplicação de matrizes\n",
        "\n",
        "\n",
        "#### link para o repositorio: [Algoritmo de Strassen](https://github.com/AndrewMBarros/Algoritmos-e-Estruturas-de-Dados-2/tree/main/Algoritmo%20de%20Strassen)"
      ],
      "metadata": {
        "id": "dufynn5O1mBl"
      }
    },
    {
      "cell_type": "markdown",
      "source": [
        "\n",
        "- [x] Teoria do algoritmo\n",
        "- [x]  Implementacao e tempo de execucao (subalgoritmos e total)\n",
        "- [x]  Teorema mestre para complexidade\n"
      ],
      "metadata": {
        "id": "AhjYggnR1sDY"
      }
    },
    {
      "cell_type": "markdown",
      "source": [
        "## **Teoria**\n",
        "O algoritmo é subdividido em 4 etapas de acordo com o livro do *Cormen*\n",
        "\n",
        "### **etapa 1**\n",
        "Dividir as matrizes de entrada A e B\n",
        "\n",
        "<br>\n",
        "\n",
        "### **etapa 2**\n",
        "Criar 10 matrizes S1, S2, … , S10, cada uma das quais é n/2 × n/2 e é a soma ou diferença de duas matrizes criadas\n",
        "na etapa 1:\n",
        "\n",
        "$S_1 = B_{12} - B_{22}$,<br>\n",
        "$S_2 = A_{11} + A_{12}$,<br>\n",
        "$S_3 = A_{21} + A_{22}$,<br>\n",
        "$S_4 = B_{21} - B_{11}$,<br>\n",
        "$S_5 = A_{11} + A_{22}$,<br>\n",
        "$S_6 = B_{11} + B_{22}$,<br>\n",
        "$S_7 = A_{12} - A_{22}$,<br>\n",
        "$S_8 = B_{21} + B_{22}$,<br>\n",
        "$S_9 = A_{11} - A_{21}$,<br>\n",
        "$S_{10} = B_{11} + B_{12}$,<br>\n",
        "Podemos criar todas as 10 matrizes no tempo Θ(n²).\n",
        "\n",
        "<br>\n",
        "\n",
        "### **etapa 3**\n",
        "Usando as submatrizes criadas na etapa 1 e as 10 matrizes criadas na etapa 2, calcular recursivamente sete\n",
        "produtos de matrizes P1, P2 , … , P7. Cada matriz Pi é n/2 × n/2.\n",
        "\n",
        "<br>\n",
        "\n",
        "$P_1 = A_{11} \\cdot S_1 = A_{11} \\cdot B_{12} - A_{11} \\cdot B_{22}$,  \n",
        "$P_2 = S_2 \\cdot B_{22} = A_{11} \\cdot B_{22} + A_{12} \\cdot B_{22}$,  \n",
        "$P_3 = S_3 \\cdot B_{11} = A_{21} \\cdot B_{11} + A_{22} \\cdot B_{11}$,  \n",
        "$P_4 = A_{22} \\cdot S_4 = A_{22} \\cdot B_{21} - A_{22} \\cdot B_{11}$,  \n",
        "$P_5 = S_5 \\cdot S_6 = A_{11} \\cdot B_{11} + A_{11} \\cdot B_{22} + A_{22} \\cdot B_{11} + A_{22} \\cdot B_{22}$,  \n",
        "$P_6 = S_7 \\cdot S_8 = A_{12} \\cdot B_{21} + A_{12} \\cdot B_{22} - A_{22} \\cdot B_{21} - A_{22} \\cdot B_{22}$,  \n",
        "$P_7 = S_9 \\cdot S_{10} = A_{11} \\cdot B_{11} + A_{11} \\cdot B_{12} - A_{21} \\cdot B_{11} - A_{21} \\cdot B_{12}$.  \n",
        "\n",
        "<br>\n",
        "\n",
        "### **etapa 4**\n",
        "Calcular as submatrizes desejadas C11, C12, C21, C22 da matriz resultado C somando e subtraindo várias\n",
        "combinações das $P_i$ matrizes. Podemos calcular todas as quatro submatrizes no tempo Θ(n²).\n",
        "\n",
        "$C_{11} = P_5 + P_4 - P_2 + P_6$\n",
        "\n",
        "$C_{12} = P_1 + P_2$\n",
        "\n",
        "$C_{21} = P_3 + P_4$\n",
        "\n",
        "$C_{22} = P_5 + P_1 - P_3 - P_7$\n"
      ],
      "metadata": {
        "id": "BErqM20-7XgR"
      }
    },
    {
      "cell_type": "markdown",
      "source": [
        "## Definição teorema mestre\n",
        "O teorema mestre define que se temos a recorrência:\n",
        "\n",
        "$T(n) = a * T(n/b) + f(n)$\n",
        "\n",
        "onde $a>=1$,\n",
        "\n",
        "$b > 1$ e\n",
        "\n",
        "$f(n)$ nao negativa\n",
        "\n",
        "(1) Se $f(n) < n^{log_b a}$, então $T(n) = θ(n^{log_b a})$\n",
        "\n",
        "(2) Se $f(n) = n^{log_b a}$, então $T(n) = θ(f(n)*log_2 n)$\n",
        "\n",
        "(3) Se $f(n) > n^{log_b a}$, então $T(n) = θ(f(n))$"
      ],
      "metadata": {
        "id": "NhpjEOw6lO8-"
      }
    },
    {
      "cell_type": "markdown",
      "source": [
        "##aplicação teorema mestre\n",
        "Como veremos no código as funções de soma de matrizes e da criação de matrizes A e B e o calculo das 4 submatrizes são O(n²), isso implica que\n",
        "$f(n) = n^{2}$\n",
        "\n",
        "<br>\n",
        "\n",
        "Para a recursão ou seja chamada das multiplicações de matrizes P1...P7 cada um dos passos divide as 2 submatrizes em n/2, logo temos $7*(n/2)$\n",
        "\n",
        "<br>\n",
        "\n",
        "Podemos então formar a equação do teorema mestre: $T(n) = 7(n/2) + n²$\n",
        "\n",
        "<br>\n",
        "\n",
        "\n",
        "\n",
        "Resolvendo a recorrencia temos: $n^{log_2 7} = n^{2,81}$, mas $f(n) = n^2 < n^{2,81} => T(n) = θ(n^{2,81})$, logo a complexidade para esse algoritmo é $n^{2,81}$, o que é relativamente mais rápido que $n^3$ que é a complexidade da multiplicação direta.\n",
        "\n"
      ],
      "metadata": {
        "id": "iVVYb-I9h6pT"
      }
    },
    {
      "cell_type": "code",
      "source": [
        "#Comparativo n ** 3 e n ** 2.81\n",
        "\n",
        "import matplotlib.pyplot as plt\n",
        "import numpy as np\n",
        "\n",
        "arr = np.linspace(0, 10, 100)\n",
        "n_cubo = arr **(3)\n",
        "n_281 = arr **(2.81)\n",
        "\n",
        "plt.plot(arr, n_cubo, label='n^3')\n",
        "plt.plot(arr, n_281, label='n^2.81')\n",
        "plt.legend()\n",
        "\n",
        "plt.grid()\n",
        "plt.xlabel('n')\n",
        "plt.ylabel('Tempo')"
      ],
      "metadata": {
        "colab": {
          "base_uri": "https://localhost:8080/",
          "height": 466
        },
        "id": "jkQiJnJCm28d",
        "outputId": "d842f6bd-772b-4bbb-f790-b1b360de2035"
      },
      "execution_count": null,
      "outputs": [
        {
          "output_type": "execute_result",
          "data": {
            "text/plain": [
              "Text(0, 0.5, 'Tempo')"
            ]
          },
          "metadata": {},
          "execution_count": 1
        },
        {
          "output_type": "display_data",
          "data": {
            "text/plain": [
              "<Figure size 640x480 with 1 Axes>"
            ],
            "image/png": "[encoded data removed]"
          },
          "metadata": {}
        }
      ]
    },
    {
      "cell_type": "markdown",
      "source": [
        "##Subalgoritmos\n",
        "Resumidamente temos os 4 subalgoritmos:\n",
        "\n",
        "1. Divisao das matrizes A e B em submatrizes n/2 x n/2\n",
        "\n",
        "2. Criação das 10 matrizes $S1, ..., S10$\n",
        "\n",
        "3. Calcular $P1, ..., P7$\n",
        "\n",
        "4. Calcular $C11, C12, C21, C22$\n"
      ],
      "metadata": {
        "id": "DBegSbSK2VWo"
      }
    },
    {
      "cell_type": "code",
      "source": [
        "#O(n²)\n",
        "def matrix_add(A, B):\n",
        "    #list comprehension retornando matriz onde cada elemento é a soma\n",
        "    return [[A[i][j] + B[i][j] for j in range(len(A[0]))] for i in range(len(A))]\n"
      ],
      "metadata": {
        "id": "xGKRuACz1Zcm"
      },
      "execution_count": null,
      "outputs": []
    },
    {
      "cell_type": "code",
      "source": [
        "#O(n²)\n",
        "def matrix_sub(A, B):\n",
        "    #list comprehension retornando matriz onde cada elemento é a subtracao\n",
        "    return [[A[i][j] - B[i][j] for j in range(len(A[0]))] for i in range(len(A))]"
      ],
      "metadata": {
        "id": "fli2jeRg1ZSf"
      },
      "execution_count": null,
      "outputs": []
    },
    {
      "cell_type": "code",
      "source": [
        "#O(n²)\n",
        "def combine(C1, C2, C3, C4):\n",
        "    n = len(C1)\n",
        "    #list comprehension preenchendo com zeros\n",
        "    C = [[0 for _ in range(2 * n)] for _ in range(2 * n)]\n",
        "\n",
        "    for i in range(n):\n",
        "        for j in range(n):\n",
        "            C[i][j] = C1[i][j]\n",
        "            C[i][j + n] = C2[i][j]\n",
        "            C[i + n][j] = C3[i][j]\n",
        "            C[i + n][j + n] = C4[i][j]\n",
        "    return C\n"
      ],
      "metadata": {
        "id": "HXkP2MLaysoC"
      },
      "execution_count": null,
      "outputs": []
    },
    {
      "cell_type": "code",
      "source": [
        "import time\n",
        "tempos = [0.0, 0.0, 0.0, 0.0]  # [divisao, S, P, C]\n",
        "\n",
        "\n",
        "def strassenAlgorithm(A, B):\n",
        "\n",
        "  #Faz parte do subalgoritmo 3\n",
        "  #-------------------------------\n",
        "\n",
        "  start = time.perf_counter()\n",
        "  n = len(A)\n",
        "\n",
        "  if n == 1:\n",
        "    result = [[A[0][0] * B[0][0]]]\n",
        "    tempos[2] += time.perf_counter() - start\n",
        "    return result\n",
        "\n",
        "  if n == 2:\n",
        "    c11 = A[0][0] * B[0][0] + A[0][1] * B[1][0]\n",
        "    c12 = A[0][0] * B[0][1] + A[0][1] * B[1][1]\n",
        "    c21 = A[1][0] * B[0][0] + A[1][1] * B[1][0]\n",
        "    c22 = A[1][0] * B[0][1] + A[1][1] * B[1][1]\n",
        "    result = [[c11, c12], [c21, c22]]\n",
        "    tempos[2] += time.perf_counter() - start\n",
        "    return result\n",
        "\n",
        "  #-------------------------------\n",
        "\n",
        "\n",
        "\n",
        "#subalgoritmo 1:\n",
        "  start1 = time.time()\n",
        "  meio = n // 2\n",
        "\n",
        "  A11 = [row[:meio] for row in A[:meio]]\n",
        "  A12 = [row[meio:] for row in A[:meio]]\n",
        "  A21 = [row[:meio] for row in A[meio:]]\n",
        "  A22 = [row[meio:] for row in A[meio:]]\n",
        "\n",
        "  B11 = [row[:meio] for row in B[:meio]]\n",
        "  B12 = [row[meio:] for row in B[:meio]]\n",
        "  B21 = [row[:meio] for row in B[meio:]]\n",
        "  B22 = [row[meio:] for row in B[meio:]]\n",
        "  end1 = time.time()\n",
        "  tempos[0] += end1 - start1\n",
        "\n",
        "#Subalgoritmo 2:\n",
        "  start2 = time.time()\n",
        "\n",
        "  S1 = matrix_sub(B12, B22)\n",
        "  S2 = matrix_add(A11, A12)\n",
        "  S3 = matrix_add(A21, A22)\n",
        "  S4 = matrix_sub(B21, B11)\n",
        "  S5 = matrix_add(A11, A22)\n",
        "  S6 = matrix_add(B11, B22)\n",
        "  S7 = matrix_sub(A12, A22)\n",
        "  S8 = matrix_add(B21, B22)\n",
        "  S9 = matrix_sub(A11, A21)\n",
        "  S10 = matrix_add(B11, B12)\n",
        "\n",
        "  end2 = time.time()\n",
        "  tempos[1] += end2 - start2\n",
        "\n",
        "#Subalgoritmo 3:\n",
        "\n",
        "#P1 = A11 * S1\n",
        "#P2 = S2 * B22\n",
        "#P3 = S3 * B11\n",
        "#P4 = A22 * S4\n",
        "#P5 = S5 * S6\n",
        "#P6 = S7 * S8\n",
        "#P7 = S9 * S10\n",
        "  start3 = time.perf_counter()\n",
        "\n",
        "  P1 = strassenAlgorithm(A11, S1)\n",
        "  P2 = strassenAlgorithm(S2, B22)\n",
        "  P3 = strassenAlgorithm(S3, B11)\n",
        "  P4 = strassenAlgorithm(A22, S4)\n",
        "  P5 = strassenAlgorithm(S5, S6)\n",
        "  P6 = strassenAlgorithm(S7, S8)\n",
        "  P7 = strassenAlgorithm(S9, S10)\n",
        "\n",
        "  tempos[2] += time.perf_counter() - start3\n",
        "\n",
        "#Subalgoritmo 4:\n",
        "\n",
        "  #C11 = P5 + P4 - P2 + P6\n",
        "  #C12 = P1 + P2\n",
        "  #C21 = P3 + P4\n",
        "  #C22 = P5 + P1 - P3 - P7\n",
        "\n",
        "  start4 = time.time()\n",
        "\n",
        "  C11 = matrix_add(matrix_sub(matrix_add(P5, P4), P2), P6)\n",
        "  C12 = matrix_add(P1, P2)\n",
        "  C21 = matrix_add(P3, P4)\n",
        "  C22 = matrix_sub(matrix_sub(matrix_add(P5, P1), P3), P7)\n",
        "\n",
        "  end4 = time.time()\n",
        "  tempos[3] += end4 - start4\n",
        "\n",
        "  return combine(C11, C12, C21, C22)\n"
      ],
      "metadata": {
        "id": "f9DXfPhOyWI9"
      },
      "execution_count": null,
      "outputs": []
    },
    {
      "cell_type": "code",
      "source": [
        "A = [\n",
        "    [1, 2, 3, 4],\n",
        "    [5, 6, 7, 8],\n",
        "    [9, 10, 11, 12],\n",
        "    [13, 14, 15, 16]\n",
        "]\n",
        "\n",
        "B = [\n",
        "    [17, 18, 19, 20],\n",
        "    [21, 22, 23, 24],\n",
        "    [25, 26, 27, 28],\n",
        "    [29, 30, 31, 32]\n",
        "]"
      ],
      "metadata": {
        "id": "OLAk8S_-uXjy"
      },
      "execution_count": null,
      "outputs": []
    },
    {
      "cell_type": "code",
      "source": [
        "start_= time.time()\n",
        "C = strassenAlgorithm(A, B)\n",
        "end_ = time.time()\n",
        "print(f\"Tempo total de execução: {end_ - start_} segundos\")"
      ],
      "metadata": {
        "id": "9p4BaZjXyaP5",
        "colab": {
          "base_uri": "https://localhost:8080/"
        },
        "outputId": "20116dee-0c9d-449b-946c-17eb38df909a"
      },
      "execution_count": null,
      "outputs": [
        {
          "output_type": "stream",
          "name": "stdout",
          "text": [
            "Tempo de execução: 0.00024700164794921875 segundos\n"
          ]
        }
      ]
    },
    {
      "cell_type": "code",
      "source": [
        "C"
      ],
      "metadata": {
        "colab": {
          "base_uri": "https://localhost:8080/"
        },
        "id": "p0m3wtRWygDT",
        "outputId": "7a3ace9c-4849-48e7-ee0e-3b6f107db6e8"
      },
      "execution_count": null,
      "outputs": [
        {
          "output_type": "execute_result",
          "data": {
            "text/plain": [
              "[[250, 260, 270, 280],\n",
              " [618, 644, 670, 696],\n",
              " [986, 1028, 1070, 1112],\n",
              " [1354, 1412, 1470, 1528]]"
            ]
          },
          "metadata": {},
          "execution_count": 20
        }
      ]
    },
    {
      "cell_type": "code",
      "source": [
        "# Exibir tempos\n",
        "print(f\"Tempo - Subalgoritmo 1 (Divisão): {tempos[0]:.6f} segundos\")\n",
        "print(f\"Tempo - Subalgoritmo 2 (S1..S10): {tempos[1]:.6f} segundos\")\n",
        "print(f\"Tempo - Subalgoritmo 3 (P1..P7):  {tempos[2]:.6f} segundos\")\n",
        "print(f\"Tempo - Subalgoritmo 4 (Cij):     {tempos[3]:.6f} segundos\")\n"
      ],
      "metadata": {
        "colab": {
          "base_uri": "https://localhost:8080/"
        },
        "id": "-E3dPZSgnhZe",
        "outputId": "f4be6200-cd3e-4267-eb9b-714b041abeaa"
      },
      "execution_count": null,
      "outputs": [
        {
          "output_type": "stream",
          "name": "stdout",
          "text": [
            "Tempo - Subalgoritmo 1 (Divisão): 0.000014 segundos\n",
            "Tempo - Subalgoritmo 2 (S1..S10): 0.000047 segundos\n",
            "Tempo - Subalgoritmo 3 (P1..P7):  0.000045 segundos\n",
            "Tempo - Subalgoritmo 4 (Cij):     0.000018 segundos\n"
          ]
        }
      ]
    },
    {
      "cell_type": "markdown",
      "source": [
        "Podemos ver que há uma diferença entre o tempo contabilizado usando:\n",
        "\n",
        "```python\n",
        "start_= time.time()\n",
        "C = strassenAlgorithm(A, B)\n",
        "end_ = time.time()\n",
        "```\n",
        "\n",
        "E pela soma dos 4 subalgoritmos que é definido. Isso se dá por overheads que existem no meio das chamadas recursivas (empilhamento, garbage collector, etc.)\n"
      ],
      "metadata": {
        "id": "lyi-y03ogeMw"
      }
    }
  ]
}